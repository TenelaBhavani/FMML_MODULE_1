{
  "nbformat": 4,
  "nbformat_minor": 0,
  "metadata": {
    "colab": {
      "provenance": [],
      "include_colab_link": true
    },
    "kernelspec": {
      "name": "python3",
      "display_name": "Python 3"
    },
    "language_info": {
      "name": "python"
    }
  },
  "cells": [
    {
      "cell_type": "markdown",
      "metadata": {
        "id": "view-in-github",
        "colab_type": "text"
      },
      "source": [
        "<a href=\"https://colab.research.google.com/github/TenelaBhavani/FMML_MODULE_1/blob/main/Module_01_Lab_03_Augmentation.ipynb\" target=\"_parent\"><img src=\"https://colab.research.google.com/assets/colab-badge.svg\" alt=\"Open In Colab\"/></a>"
      ]
    },
    {
      "cell_type": "markdown",
      "metadata": {
        "id": "w3yfry25JgZK"
      },
      "source": [
        "# Data augmentation\n",
        "\n",
        "FMML Module 1, Lab 3<br>\n",
        "\n",
        " In this lab, we will see how augmentation of data samples help in improving the machine learning performance"
      ]
    },
    {
      "cell_type": "code",
      "metadata": {
        "id": "xZU8_elooqP0"
      },
      "source": [
        "import numpy as np\n",
        "import matplotlib.pyplot as plt\n",
        "from keras.datasets import mnist\n",
        "# set randomseed\n",
        "rng = np.random.default_rng(seed=42)\n",
        "from sklearn.utils.extmath import cartesian\n",
        "from skimage.transform import rotate, AffineTransform, warp\n",
        "import math"
      ],
      "execution_count": 1,
      "outputs": []
    },
    {
      "cell_type": "markdown",
      "metadata": {
        "id": "T5pHYogSMHiE"
      },
      "source": [
        "Augmentation is useful when we have less training data available. Augmentation allows us to 'create' a larger dataset programatically.\n",
        "\n",
        "For this lab we will use a subset of MNIST that is very small, to better understand the effect of augmentation."
      ]
    },
    {
      "cell_type": "code",
      "metadata": {
        "id": "gJvmWJ58ovx5",
        "colab": {
          "base_uri": "https://localhost:8080/"
        },
        "outputId": "389261d6-250f-41c8-bf4b-6654a499e697"
      },
      "source": [
        "#loading the dataset\n",
        "(train_X, train_y), (test_X, test_y) = mnist.load_data()\n",
        "train_X = train_X/255\n",
        "test_X = test_X/255\n",
        "\n",
        "train_X = train_X[::1200,:,:].copy() # subsample. Otherwise it will take too long!\n",
        "train_y = train_y[::1200].copy() # do the same to the labels"
      ],
      "execution_count": 2,
      "outputs": [
        {
          "output_type": "stream",
          "name": "stdout",
          "text": [
            "Downloading data from https://storage.googleapis.com/tensorflow/tf-keras-datasets/mnist.npz\n",
            "11490434/11490434 [==============================] - 1s 0us/step\n"
          ]
        }
      ]
    },
    {
      "cell_type": "markdown",
      "metadata": {
        "id": "8XamH6z1Rt7S"
      },
      "source": [
        "Let us borrow a few functions from the previous labs:"
      ]
    },
    {
      "cell_type": "code",
      "metadata": {
        "id": "Zk2W5_3BRLMS"
      },
      "source": [
        "def NN1(traindata, trainlabel, query):\n",
        "  diff  = traindata - query  # find the difference between features. Numpy automatically takes care of the size here\n",
        "  sq = diff*diff # square the differences\n",
        "  dist = sq.sum(1) # add up the squares\n",
        "  label = trainlabel[np.argmin(dist)] # our predicted label is the label of the training data which has the least distance from the query\n",
        "  return label\n",
        "\n",
        "def NN(traindata, trainlabel, testdata):\n",
        "  # we will run nearest neighbour for each sample in the test data\n",
        "  # and collect the predicted classes in an array using list comprehension\n",
        "  traindata = traindata.reshape(-1, 28*28)\n",
        "  testdata = testdata.reshape(-1,28*28)\n",
        "  predlabel = np.array([NN1(traindata, trainlabel, i) for i in testdata])\n",
        "  return predlabel\n",
        "\n",
        "def Accuracy(gtlabel, predlabel):\n",
        "  assert len(gtlabel)==len(predlabel), \"Length of the groundtruth labels and predicted labels should be the same\"\n",
        "  correct = (gtlabel==predlabel).sum() # count the number of times the groundtruth label is equal to the predicted label.\n",
        "  return correct/len(gtlabel)"
      ],
      "execution_count": 3,
      "outputs": []
    },
    {
      "cell_type": "markdown",
      "metadata": {
        "id": "eGiA3LmDSJZo"
      },
      "source": [
        "In this lab, we will use the image pixels themselves as features, instead of extracting features. Each image has 28*28 pixels, so we will flatten them to 784 pixels to use as features. Note that this is very compute intensive and will take a long time.<br>\n",
        "\n",
        "Let us check the baseline accuracy on the test set without any augmentations. We hope that adding augmentations will help us to get better results."
      ]
    },
    {
      "cell_type": "code",
      "metadata": {
        "id": "4tQvnoasRNEV",
        "colab": {
          "base_uri": "https://localhost:8080/"
        },
        "outputId": "648a85ba-04ba-4a3a-ace0-b7d39d9ed9ac"
      },
      "source": [
        "testpred = NN(train_X, train_y, test_X)\n",
        "print('Baseline accuracy without augmentation is ', Accuracy(test_y, testpred))"
      ],
      "execution_count": 4,
      "outputs": [
        {
          "output_type": "stream",
          "name": "stdout",
          "text": [
            "Baseline accuracy without augmentation is  0.6472\n"
          ]
        }
      ]
    },
    {
      "cell_type": "markdown",
      "metadata": {
        "id": "ZfkcMfhIZQ7U"
      },
      "source": [
        "Let us try to improve this accuracy using augmentations. When we create augmentations, we have to make sure that the changes reflect what will naturally occur in the dataset. For example, we should not add colour to our samples as an augmentation because they do not naturally occur. We should not also flip the images in MNIST, because flipped images have different meanings for digits.\n",
        "\n",
        "### Augmentation 1: rotation\n",
        "\n",
        "Let us try rotating the image a little. We will use skimage library for this."
      ]
    },
    {
      "cell_type": "code",
      "metadata": {
        "id": "z5WolJ9fZE7L",
        "colab": {
          "base_uri": "https://localhost:8080/",
          "height": 638
        },
        "outputId": "a33c5101-f5d6-4c39-9454-085db985b83f"
      },
      "source": [
        "plt.imshow(train_X[2], cmap='gray')\n",
        "plt.show()\n",
        "plt.imshow(rotate(train_X[2],25), cmap='gray')"
      ],
      "execution_count": 5,
      "outputs": [
        {
          "output_type": "display_data",
          "data": {
            "text/plain": [
              "<Figure size 640x480 with 1 Axes>"
            ],
            "image/png": "[encoded data removed]"
          },
          "metadata": {}
        },
        {
          "output_type": "execute_result",
          "data": {
            "text/plain": [
              "<matplotlib.image.AxesImage at 0x7f3cf14f1b40>"
            ]
          },
          "metadata": {},
          "execution_count": 5
        },
        {
          "output_type": "display_data",
          "data": {
            "text/plain": [
              "<Figure size 640x480 with 1 Axes>"
            ],
            "image/png": "[encoded data removed]"
          },
          "metadata": {}
        }
      ]
    },
    {
      "cell_type": "markdown",
      "metadata": {
        "id": "KE33Yxgggu0c"
      },
      "source": [
        "After rotating, the the class of the image is still the same. Let us make a function to rotate multiple images by random angles. We want a slightly different image every time we run this function. So, we generate a random number between 0 and 1 and change it so that it lies between -constraint/2 and +constraint/2"
      ]
    },
    {
      "cell_type": "code",
      "metadata": {
        "id": "vyM7pUV7Reze"
      },
      "source": [
        "def augRotate(sample, angleconstraint):\n",
        "  if angleconstraint==0:\n",
        "    return sample\n",
        "  if len(sample.shape)==2:\n",
        "    sample = np.expand_dims(sample, 0)  # make sure the sample is 3 dimensional\n",
        "  angle = rng.random(len(sample)) # generate random numbers for angles\n",
        "  angle = (angle-0.5)*angleconstraint # make the random angle constrained\n",
        "  nsample = sample.copy() # preallocate the augmented array to make it faster\n",
        "  for ii in range(len(sample)):\n",
        "    nsample[ii] = rotate(sample[ii], angle[ii])\n",
        "  return np.squeeze(nsample) # take care if the input had only one sample."
      ],
      "execution_count": 6,
      "outputs": []
    },
    {
      "cell_type": "markdown",
      "metadata": {
        "id": "kDk-N5VNjar9"
      },
      "source": [
        "This function returns a slightly different image each time we call it. So we can increase the number of images in the sample by any multiple."
      ]
    },
    {
      "cell_type": "code",
      "metadata": {
        "id": "Vw3O9zGFgI8K",
        "colab": {
          "base_uri": "https://localhost:8080/",
          "height": 449
        },
        "outputId": "0473b72e-e136-4309-c013-dfb8759553ed"
      },
      "source": [
        "sample = train_X[20]\n",
        "angleconstraint = 70\n",
        "# show the original image\n",
        "plt.imshow(sample, cmap='gray')\n",
        "plt.show()\n",
        "plt.subplot(1,3,1)\n",
        "plt.imshow(augRotate(sample, angleconstraint), cmap='gray') # show an augmented image\n",
        "plt.subplot(1,3,2)\n",
        "plt.imshow(augRotate(sample, angleconstraint), cmap='gray') # show another augmented image from the same sample\n",
        "plt.subplot(1,3,3)\n",
        "plt.imshow(augRotate(sample, angleconstraint), cmap='gray') # one more image from the same sample"
      ],
      "execution_count": 7,
      "outputs": [
        {
          "output_type": "display_data",
          "data": {
            "text/plain": [
              "<Figure size 640x480 with 1 Axes>"
            ],
            "image/png": "[encoded data removed]"
          },
          "metadata": {}
        },
        {
          "output_type": "execute_result",
          "data": {
            "text/plain": [
              "<matplotlib.image.AxesImage at 0x7f3cf140fd30>"
            ]
          },
          "metadata": {},
          "execution_count": 7
        },
        {
          "output_type": "display_data",
          "data": {
            "text/plain": [
              "<Figure size 640x480 with 3 Axes>"
            ],
            "image/png": "[encoded data removed]"
          },
          "metadata": {}
        }
      ]
    },
    {
      "cell_type": "markdown",
      "metadata": {
        "id": "ytv3NxF-kgxN"
      },
      "source": [
        "Let us augment the whole dataset and see if this improves the test accuracy"
      ]
    },
    {
      "cell_type": "code",
      "metadata": {
        "id": "iNzNAoDBkRzj",
        "colab": {
          "base_uri": "https://localhost:8080/"
        },
        "outputId": "1aaf2fb1-f07e-403b-f383-cc2d05fe29f3"
      },
      "source": [
        "# hyperparameters\n",
        "angleconstraint = 60\n",
        "naugmentations = 5\n",
        "\n",
        "# augment\n",
        "augdata = train_X # we include the original images also in the augmented dataset\n",
        "auglabel = train_y\n",
        "for ii in range(naugmentations):\n",
        "  augdata = np.concatenate((augdata, augRotate(train_X, angleconstraint))) # concatenate the augmented data to the set\n",
        "  auglabel = np.concatenate((auglabel, train_y))  # the labels don't change when we augment\n",
        "\n",
        "# check the test accuracy\n",
        "testpred = NN(augdata, auglabel, test_X)\n",
        "print('Accuracy after rotation augmentation is ', Accuracy(test_y, testpred))"
      ],
      "execution_count": 9,
      "outputs": [
        {
          "output_type": "stream",
          "name": "stdout",
          "text": [
            "Accuracy after rotation augmentation is  0.6667\n"
          ]
        }
      ]
    },
    {
      "cell_type": "markdown",
      "metadata": {
        "id": "E88Nt9s1p5R6"
      },
      "source": [
        "The angle constraint is a hyperparameter which we have to tune using a validation set. (Here we are not doing that for time constraints). Let us try a grid search to find the best angle constraint."
      ]
    },
    {
      "cell_type": "code",
      "metadata": {
        "id": "aiaFRLREmGp6",
        "colab": {
          "base_uri": "https://localhost:8080/"
        },
        "outputId": "2a6a2390-5dc3-4bfa-db17-b427d601d92e"
      },
      "source": [
        "angleconstraints = [0,10,20,30,40,50,60,70,80,90] # the values we want to test\n",
        "accuracies = np.zeros(len(angleconstraints), dtype=np.float) # we will save the values here\n",
        "\n",
        "for ii in range(len(angleconstraints)):\n",
        "  # create the augmented dataset\n",
        "  augdata = train_X # we include the original images also in the augmented dataset\n",
        "  auglabel = train_y\n",
        "  for jj in range(naugmentations):\n",
        "    augdata = np.concatenate((augdata, augRotate(train_X, angleconstraints[ii]))) # concatenate the augmented data to the set\n",
        "    auglabel = np.concatenate((auglabel, train_y))  # the labels don't change when we augment\n",
        "\n",
        "  # check the test accuracy\n",
        "  testpred = NN(augdata, auglabel, test_X)\n",
        "  accuracies[ii] = Accuracy(test_y, testpred)\n",
        "  print('Accuracy after rotation augmentation constrained by ',angleconstraints[ii], ' is ', accuracies[ii], flush=True)"
      ],
      "execution_count": 11,
      "outputs": [
        {
          "output_type": "stream",
          "name": "stderr",
          "text": [
            "<ipython-input-11-2f14d3721156>:2: DeprecationWarning: `np.float` is a deprecated alias for the builtin `float`. To silence this warning, use `float` by itself. Doing this will not modify any behavior and is safe. If you specifically wanted the numpy scalar type, use `np.float64` here.\n",
            "Deprecated in NumPy 1.20; for more details and guidance: https://numpy.org/devdocs/release/1.20.0-notes.html#deprecations\n",
            "  accuracies = np.zeros(len(angleconstraints), dtype=np.float) # we will save the values here\n"
          ]
        },
        {
          "output_type": "stream",
          "name": "stdout",
          "text": [
            "Accuracy after rotation augmentation constrained by  0  is  0.6472\n",
            "Accuracy after rotation augmentation constrained by  10  is  0.6736\n",
            "Accuracy after rotation augmentation constrained by  20  is  0.671\n",
            "Accuracy after rotation augmentation constrained by  30  is  0.6813\n",
            "Accuracy after rotation augmentation constrained by  40  is  0.679\n",
            "Accuracy after rotation augmentation constrained by  50  is  0.6756\n",
            "Accuracy after rotation augmentation constrained by  60  is  0.6699\n",
            "Accuracy after rotation augmentation constrained by  70  is  0.6578\n",
            "Accuracy after rotation augmentation constrained by  80  is  0.6567\n",
            "Accuracy after rotation augmentation constrained by  90  is  0.6545\n"
          ]
        }
      ]
    },
    {
      "cell_type": "markdown",
      "metadata": {
        "id": "2oVDRYP2rxob"
      },
      "source": [
        "Let us see the best value for angle constraint: (Ideally this should be done on validation set, not test set)"
      ]
    },
    {
      "cell_type": "code",
      "metadata": {
        "id": "LqthJa_pmMHz",
        "colab": {
          "base_uri": "https://localhost:8080/",
          "height": 292
        },
        "outputId": "163aa7b3-b79a-4dd8-c526-83618df7b268"
      },
      "source": [
        "fig = plt.figure()\n",
        "ax = fig.add_axes([0.1, 0.1, 0.8, 0.8]) # main axes\n",
        "# plot the variation of accuracy\n",
        "ax.plot(angleconstraints, accuracies)\n",
        "ax.set_xlabel('angle')\n",
        "ax.set_ylabel('accuracy')\n",
        "# plot the maximum accuracy\n",
        "maxind = np.argmax(accuracies)\n",
        "plt.scatter(angleconstraints[maxind], accuracies[maxind], c='red')"
      ],
      "execution_count": 12,
      "outputs": [
        {
          "output_type": "execute_result",
          "data": {
            "text/plain": [
              "<matplotlib.collections.PathCollection at 0x7f3cf1234700>"
            ]
          },
          "metadata": {},
          "execution_count": 12
        },
        {
          "output_type": "display_data",
          "data": {
            "text/plain": [
              "<Figure size 640x480 with 1 Axes>"
            ],
            "image/png": "[encoded data removed]"
          },
          "metadata": {}
        }
      ]
    },
    {
      "cell_type": "markdown",
      "metadata": {
        "id": "eJ8YuVfCuGTj"
      },
      "source": [
        "Let us try one more augmentation: shear. Here is what this looks like:"
      ]
    },
    {
      "cell_type": "code",
      "metadata": {
        "id": "pMiw46NLwssK"
      },
      "source": [
        "def shear(sample, amount):\n",
        "  tform = AffineTransform(shear = amount) # create the shear transform\n",
        "  img = warp(sample, tform) # apply the shear\n",
        "  # this makes the digit off-center. Since all the images in the test set are centralized, we will do the same here\n",
        "  col = img.sum(0).nonzero()[0]\n",
        "  row = img.sum(1).nonzero()[0]\n",
        "  if len(col)>0 and len(row)>0:\n",
        "    xshift = int(sample.shape[0]/2 - (row[0]+row[-1])/2)\n",
        "    yshift = int(sample.shape[1]/2 - (col[0]+col[-1])/2)\n",
        "    img = np.roll(img, (xshift, yshift),(0,1))\n",
        "  return img"
      ],
      "execution_count": 13,
      "outputs": []
    },
    {
      "cell_type": "code",
      "metadata": {
        "id": "4_u_EYpmnABK",
        "colab": {
          "base_uri": "https://localhost:8080/",
          "height": 638
        },
        "outputId": "420a23f3-a1b0-43aa-f23b-dfbd5a70518b"
      },
      "source": [
        "sample = train_X[2]\n",
        "plt.imshow(sample, cmap='gray')\n",
        "plt.show()\n",
        "\n",
        "# apply shear\n",
        "plt.imshow(shear(sample, 0.4), cmap='gray')"
      ],
      "execution_count": 14,
      "outputs": [
        {
          "output_type": "display_data",
          "data": {
            "text/plain": [
              "<Figure size 640x480 with 1 Axes>"
            ],
            "image/png": "[encoded data removed]"
          },
          "metadata": {}
        },
        {
          "output_type": "execute_result",
          "data": {
            "text/plain": [
              "<matplotlib.image.AxesImage at 0x7f3cf12ba4d0>"
            ]
          },
          "metadata": {},
          "execution_count": 14
        },
        {
          "output_type": "display_data",
          "data": {
            "text/plain": [
              "<Figure size 640x480 with 1 Axes>"
            ],
            "image/png": "[encoded data removed]"
          },
          "metadata": {}
        }
      ]
    },
    {
      "cell_type": "markdown",
      "metadata": {
        "id": "lGnWMoyM2pK4"
      },
      "source": [
        "Create an augmentation function which applies a random shear according to the constraint we provide:"
      ]
    },
    {
      "cell_type": "code",
      "metadata": {
        "id": "-qLDJyGytwP5"
      },
      "source": [
        "def augShear(sample, shearconstraint):\n",
        "  if shearconstraint==0:\n",
        "    return sample\n",
        "  if len(sample.shape)==2:\n",
        "    sample = np.expand_dims(sample, 0)  # make sure the sample is 3 dimensional\n",
        "  amt = rng.random(len(sample)) # generate random numbers for shear\n",
        "  amt = (amt-0.5)*shearconstraint # make the random shear constrained\n",
        "  nsample = sample.copy() # preallocate the augmented array to make it faster\n",
        "  for ii in range(len(sample)):\n",
        "    nsample[ii] = shear(sample[ii], amt[ii])\n",
        "  return np.squeeze(nsample) # take care if the input had only one sample."
      ],
      "execution_count": 15,
      "outputs": []
    },
    {
      "cell_type": "markdown",
      "metadata": {
        "id": "s6lQcWW93suJ"
      },
      "source": [
        "Let us do a grid search to find the best shear constraint."
      ]
    },
    {
      "cell_type": "code",
      "metadata": {
        "id": "l_wrqPkrzBb_",
        "colab": {
          "base_uri": "https://localhost:8080/"
        },
        "outputId": "ec42ab21-df52-4240-8d9e-11de1fd7d8ba"
      },
      "source": [
        "shearconstraints = [0, 0.2,0.4,0.6,0.8,1.0,1.2,1.4,1.6,1.8,2.0] # the values we want to test\n",
        "accuracies = np.zeros(len(shearconstraints), dtype=np.float) # we will save the values here\n",
        "\n",
        "for ii in range(len(shearconstraints)):\n",
        "  # create the augmented dataset\n",
        "  augdata = train_X # we include the original images also in the augmented dataset\n",
        "  auglabel = train_y\n",
        "  for jj in range(naugmentations):\n",
        "    augdata = np.concatenate((augdata, augShear(train_X, shearconstraints[ii]))) # concatenate the augmented data to the set\n",
        "    auglabel = np.concatenate((auglabel, train_y))  # the labels don't change when we augment\n",
        "\n",
        "  # check the test accuracy\n",
        "  testpred = NN(augdata, auglabel, test_X)\n",
        "  accuracies[ii] = Accuracy(test_y, testpred)\n",
        "  print('Accuracy after shear augmentation constrained by ',shearconstraints[ii], ' is ', accuracies[ii], flush=True)"
      ],
      "execution_count": 16,
      "outputs": [
        {
          "output_type": "stream",
          "name": "stderr",
          "text": [
            "<ipython-input-16-8a89fef4983d>:2: DeprecationWarning: `np.float` is a deprecated alias for the builtin `float`. To silence this warning, use `float` by itself. Doing this will not modify any behavior and is safe. If you specifically wanted the numpy scalar type, use `np.float64` here.\n",
            "Deprecated in NumPy 1.20; for more details and guidance: https://numpy.org/devdocs/release/1.20.0-notes.html#deprecations\n",
            "  accuracies = np.zeros(len(shearconstraints), dtype=np.float) # we will save the values here\n"
          ]
        },
        {
          "output_type": "stream",
          "name": "stdout",
          "text": [
            "Accuracy after shear augmentation constrained by  0  is  0.6472\n",
            "Accuracy after shear augmentation constrained by  0.2  is  0.6171\n",
            "Accuracy after shear augmentation constrained by  0.4  is  0.6382\n",
            "Accuracy after shear augmentation constrained by  0.6  is  0.6486\n",
            "Accuracy after shear augmentation constrained by  0.8  is  0.6434\n",
            "Accuracy after shear augmentation constrained by  1.0  is  0.6535\n",
            "Accuracy after shear augmentation constrained by  1.2  is  0.645\n",
            "Accuracy after shear augmentation constrained by  1.4  is  0.6558\n",
            "Accuracy after shear augmentation constrained by  1.6  is  0.6403\n",
            "Accuracy after shear augmentation constrained by  1.8  is  0.6265\n",
            "Accuracy after shear augmentation constrained by  2.0  is  0.5925\n"
          ]
        }
      ]
    },
    {
      "cell_type": "code",
      "metadata": {
        "id": "EKaH-YR-zVnA",
        "colab": {
          "base_uri": "https://localhost:8080/",
          "height": 295
        },
        "outputId": "75a3e651-2892-4d3a-e180-5659f8df0a75"
      },
      "source": [
        "fig = plt.figure()\n",
        "ax = fig.add_axes([0.1, 0.1, 0.8, 0.8]) # main axes\n",
        "# plot the variation of accuracy\n",
        "ax.plot(shearconstraints, accuracies)\n",
        "ax.set_xlabel('angle')\n",
        "ax.set_ylabel('accuracy')\n",
        "# plot the maximum accuracy\n",
        "maxind = np.argmax(accuracies)\n",
        "plt.scatter(shearconstraints[maxind], accuracies[maxind], c='red')"
      ],
      "execution_count": 17,
      "outputs": [
        {
          "output_type": "execute_result",
          "data": {
            "text/plain": [
              "<matplotlib.collections.PathCollection at 0x7f3cf1149810>"
            ]
          },
          "metadata": {},
          "execution_count": 17
        },
        {
          "output_type": "display_data",
          "data": {
            "text/plain": [
              "<Figure size 640x480 with 1 Axes>"
            ],
            "image/png": "[encoded data removed]"
          },
          "metadata": {}
        }
      ]
    },
    {
      "cell_type": "markdown",
      "metadata": {
        "id": "ccfdbRcQ7Zgg"
      },
      "source": [
        "We can do multiple augmentations at the same time. Here is a function to do both shear and rotation to the sample. In this case, we will have two hyperparameters."
      ]
    },
    {
      "cell_type": "code",
      "metadata": {
        "id": "sh8S_Pxa0XCv"
      },
      "source": [
        "def augRotateShear(sample, angleconstraint, shearconstraint):\n",
        "  if len(sample.shape)==2:\n",
        "    sample = np.expand_dims(sample, 0)  # make sure the sample is 3 dimensional\n",
        "  amt = rng.random(len(sample)) # generate random numbers for shear\n",
        "  amt = (amt-0.5)*shearconstraint # make the random shear constrained\n",
        "  angle = rng.random(len(sample)) # generate random numbers for angles\n",
        "  angle = (angle-0.5)*angleconstraint # make the random angle constrained\n",
        "  nsample = sample.copy() # preallocate the augmented array to make it faster\n",
        "  for ii in range(len(sample)):\n",
        "    nsample[ii] = rotate(shear(sample[ii], amt[ii]), angle[ii]) # first apply shear, then rotate\n",
        "  return np.squeeze(nsample) # take care if the input had only one sample."
      ],
      "execution_count": 18,
      "outputs": []
    },
    {
      "cell_type": "markdown",
      "metadata": {
        "id": "OGKyjjNx-NQ4"
      },
      "source": [
        "Since we have two hyperparameters, we have to do the grid search on a 2 dimensional matrix. We can use our previous experience to inform where to search for the best hyperparameters."
      ]
    },
    {
      "cell_type": "code",
      "metadata": {
        "id": "TJC45WRg0pOP",
        "colab": {
          "base_uri": "https://localhost:8080/"
        },
        "outputId": "3eba03fc-bf33-4be5-b80b-f172bb3629ba"
      },
      "source": [
        "shearconstraints = [0, 0.2,0.4,0.6,0.8,1.0,1.2,1.4,1.6] # the values we want to test\n",
        "angleconstraints = [0,10,20,30,40,50,60] # the values we want to test\n",
        "hyp = cartesian((shearconstraints, angleconstraints)) # cartesian product of both\n",
        "\n",
        "accuracies = np.zeros(len(hyp), dtype=np.float) # we will save the values here\n",
        "\n",
        "for ii in range(len(hyp)):\n",
        "  # create the augmented dataset\n",
        "  augdata = train_X # we include the original images also in the augmented dataset\n",
        "  auglabel = train_y\n",
        "  for jj in range(naugmentations):\n",
        "    augdata = np.concatenate((augdata, augRotateShear(train_X, hyp[ii][0], hyp[ii][1]))) # concatenate the augmented data to the set\n",
        "    auglabel = np.concatenate((auglabel, train_y))  # the labels don't change when we augment\n",
        "\n",
        "  # check the test accuracy\n",
        "  testpred = NN(augdata, auglabel, test_X)\n",
        "  accuracies[ii] = Accuracy(test_y, testpred)\n",
        "  print('Accuracy after augmentation shear:',hyp[ii][0], 'angle:',hyp[ii][1], ' is ', accuracies[ii], flush=True)"
      ],
      "execution_count": 20,
      "outputs": [
        {
          "output_type": "stream",
          "name": "stderr",
          "text": [
            "<ipython-input-20-09de780976d0>:5: DeprecationWarning: `np.float` is a deprecated alias for the builtin `float`. To silence this warning, use `float` by itself. Doing this will not modify any behavior and is safe. If you specifically wanted the numpy scalar type, use `np.float64` here.\n",
            "Deprecated in NumPy 1.20; for more details and guidance: https://numpy.org/devdocs/release/1.20.0-notes.html#deprecations\n",
            "  accuracies = np.zeros(len(hyp), dtype=np.float) # we will save the values here\n"
          ]
        },
        {
          "output_type": "stream",
          "name": "stdout",
          "text": [
            "Accuracy after augmentation shear: 0.0 angle: 0.0  is  0.6332\n",
            "Accuracy after augmentation shear: 0.0 angle: 10.0  is  0.6099\n",
            "Accuracy after augmentation shear: 0.0 angle: 20.0  is  0.6041\n",
            "Accuracy after augmentation shear: 0.0 angle: 30.0  is  0.5879\n",
            "Accuracy after augmentation shear: 0.0 angle: 40.0  is  0.6043\n",
            "Accuracy after augmentation shear: 0.0 angle: 50.0  is  0.6075\n",
            "Accuracy after augmentation shear: 0.0 angle: 60.0  is  0.6142\n",
            "Accuracy after augmentation shear: 0.2 angle: 0.0  is  0.6339\n",
            "Accuracy after augmentation shear: 0.2 angle: 10.0  is  0.6115\n",
            "Accuracy after augmentation shear: 0.2 angle: 20.0  is  0.6119\n",
            "Accuracy after augmentation shear: 0.2 angle: 30.0  is  0.6088\n",
            "Accuracy after augmentation shear: 0.2 angle: 40.0  is  0.5878\n",
            "Accuracy after augmentation shear: 0.2 angle: 50.0  is  0.5912\n",
            "Accuracy after augmentation shear: 0.2 angle: 60.0  is  0.5974\n",
            "Accuracy after augmentation shear: 0.4 angle: 0.0  is  0.634\n",
            "Accuracy after augmentation shear: 0.4 angle: 10.0  is  0.6052\n",
            "Accuracy after augmentation shear: 0.4 angle: 20.0  is  0.6132\n",
            "Accuracy after augmentation shear: 0.4 angle: 30.0  is  0.6044\n",
            "Accuracy after augmentation shear: 0.4 angle: 40.0  is  0.5994\n",
            "Accuracy after augmentation shear: 0.4 angle: 50.0  is  0.5905\n",
            "Accuracy after augmentation shear: 0.4 angle: 60.0  is  0.5992\n",
            "Accuracy after augmentation shear: 0.6 angle: 0.0  is  0.6329\n",
            "Accuracy after augmentation shear: 0.6 angle: 10.0  is  0.6033\n",
            "Accuracy after augmentation shear: 0.6 angle: 20.0  is  0.6202\n",
            "Accuracy after augmentation shear: 0.6 angle: 30.0  is  0.6087\n",
            "Accuracy after augmentation shear: 0.6 angle: 40.0  is  0.594\n",
            "Accuracy after augmentation shear: 0.6 angle: 50.0  is  0.6003\n",
            "Accuracy after augmentation shear: 0.6 angle: 60.0  is  0.6071\n",
            "Accuracy after augmentation shear: 0.8 angle: 0.0  is  0.6342\n",
            "Accuracy after augmentation shear: 0.8 angle: 10.0  is  0.6119\n",
            "Accuracy after augmentation shear: 0.8 angle: 20.0  is  0.6038\n",
            "Accuracy after augmentation shear: 0.8 angle: 30.0  is  0.5905\n",
            "Accuracy after augmentation shear: 0.8 angle: 40.0  is  0.6063\n",
            "Accuracy after augmentation shear: 0.8 angle: 50.0  is  0.6028\n",
            "Accuracy after augmentation shear: 0.8 angle: 60.0  is  0.5941\n",
            "Accuracy after augmentation shear: 1.0 angle: 0.0  is  0.6343\n",
            "Accuracy after augmentation shear: 1.0 angle: 10.0  is  0.608\n",
            "Accuracy after augmentation shear: 1.0 angle: 20.0  is  0.5816\n",
            "Accuracy after augmentation shear: 1.0 angle: 30.0  is  0.5894\n",
            "Accuracy after augmentation shear: 1.0 angle: 40.0  is  0.5747\n",
            "Accuracy after augmentation shear: 1.0 angle: 50.0  is  0.5841\n",
            "Accuracy after augmentation shear: 1.0 angle: 60.0  is  0.5772\n",
            "Accuracy after augmentation shear: 1.2 angle: 0.0  is  0.6339\n",
            "Accuracy after augmentation shear: 1.2 angle: 10.0  is  0.6028\n",
            "Accuracy after augmentation shear: 1.2 angle: 20.0  is  0.5725\n",
            "Accuracy after augmentation shear: 1.2 angle: 30.0  is  0.604\n",
            "Accuracy after augmentation shear: 1.2 angle: 40.0  is  0.5984\n",
            "Accuracy after augmentation shear: 1.2 angle: 50.0  is  0.5894\n",
            "Accuracy after augmentation shear: 1.2 angle: 60.0  is  0.6\n",
            "Accuracy after augmentation shear: 1.4 angle: 0.0  is  0.6353\n",
            "Accuracy after augmentation shear: 1.4 angle: 10.0  is  0.5838\n",
            "Accuracy after augmentation shear: 1.4 angle: 20.0  is  0.5773\n",
            "Accuracy after augmentation shear: 1.4 angle: 30.0  is  0.5736\n",
            "Accuracy after augmentation shear: 1.4 angle: 40.0  is  0.5898\n",
            "Accuracy after augmentation shear: 1.4 angle: 50.0  is  0.6107\n",
            "Accuracy after augmentation shear: 1.4 angle: 60.0  is  0.5853\n",
            "Accuracy after augmentation shear: 1.6 angle: 0.0  is  0.635\n",
            "Accuracy after augmentation shear: 1.6 angle: 10.0  is  0.5903\n",
            "Accuracy after augmentation shear: 1.6 angle: 20.0  is  0.5819\n",
            "Accuracy after augmentation shear: 1.6 angle: 30.0  is  0.595\n",
            "Accuracy after augmentation shear: 1.6 angle: 40.0  is  0.574\n",
            "Accuracy after augmentation shear: 1.6 angle: 50.0  is  0.5952\n",
            "Accuracy after augmentation shear: 1.6 angle: 60.0  is  0.5893\n"
          ]
        }
      ]
    },
    {
      "cell_type": "markdown",
      "metadata": {
        "id": "PT6CnvSDEX7a"
      },
      "source": [
        "Let us plot it two dimensionally to see which is the best value for the hyperparameters:"
      ]
    },
    {
      "cell_type": "code",
      "metadata": {
        "id": "jD2i7msI_cLd",
        "colab": {
          "base_uri": "https://localhost:8080/",
          "height": 342
        },
        "outputId": "a38b0191-2d7b-41e6-bce7-3e79ddf72760"
      },
      "source": [
        "fig = plt.figure()\n",
        "ax = fig.add_axes([0.1, 0.1, 0.8, 0.8]) # main axes\n",
        "im = ax.imshow(accuracies.reshape((len(shearconstraints), len(angleconstraints))), cmap='inferno')\n",
        "ax.set_xlabel('angle')\n",
        "ax.set_ylabel('shear')\n",
        "ax.set_xticks(np.arange(len(angleconstraints)));\n",
        "ax.set_xticklabels(angleconstraints);\n",
        "ax.set_yticks(np.arange(len(shearconstraints)));\n",
        "ax.set_yticklabels(shearconstraints);\n",
        "plt.colorbar(im)"
      ],
      "execution_count": 21,
      "outputs": [
        {
          "output_type": "execute_result",
          "data": {
            "text/plain": [
              "<matplotlib.colorbar.Colorbar at 0x7f3cf1024c70>"
            ]
          },
          "metadata": {},
          "execution_count": 21
        },
        {
          "output_type": "display_data",
          "data": {
            "text/plain": [
              "<Figure size 640x480 with 2 Axes>"
            ],
            "image/png": "[encoded data removed]"
          },
          "metadata": {}
        }
      ]
    },
    {
      "cell_type": "markdown",
      "metadata": {
        "id": "OHcZWJiFJDMh"
      },
      "source": [
        "It seems that rotation and shear don't mix! The best accuracy is when rotation is zero."
      ]
    },
    {
      "cell_type": "markdown",
      "metadata": {
        "id": "PAasQo1C3x4A"
      },
      "source": [
        "## Questions\n",
        "Try these questions for better understanding. You may not be able to solve all of them.\n",
        "1. What is the best value for angle constraint and shear constraint you got? How much did the accuracy improve as compared to not using augmentations?\n",
        "2. Can you increase the accuracy by increasing the number of augmentations from each sample?\n",
        "3. Try implementing a few augmentations of your own and experimenting with them. A good reference is <a href=https://www.analyticsvidhya.com/blog/2019/12/image-augmentation-deep-learning-pytorch/>here. </a>\n",
        "4. Try combining various augmentations. What is the highest accuracy you can get? What is the smallest training dataset you can take and still get accuracy above 50%?\n",
        "\n",
        "Whenever you do any experiment, a good practice is to vary the hyperparameters gradually and create a graph of your results, like we did for gridsearch."
      ]
    },
    {
      "cell_type": "markdown",
      "source": [
        "4.Optimal Data Augmentation Values\n",
        "\n",
        "I apologize, but I don't have access to specific data or experiments conducted after my last knowledge update in September 2021. The best values for angle and shear constraints in data augmentation can vary depending on the specific machine learning task and dataset. To determine the optimal values for your task, you may need to experiment and evaluate different values using techniques like cross-validation.\n",
        "\n",
        "The improvement in accuracy due to data augmentation also depends on the task and dataset. Generally, data augmentation can help improve model generalization by providing more diverse training examples. The extent of improvement varies, and it's usually assessed through empirical testing. You would typically compare the accuracy of models trained with and without data augmentation to measure the impact accurately.\n",
        "Can you increase the accuracy by increasing the number of augmentations from each sample\n",
        "\n",
        "Increasing the number of augmentations for each sample can potentially improve the accuracy of your machine learning model, especially if your dataset is limited or lacks diversity. By generating multiple augmented versions of each sample, you effectively increase the size of your training dataset, which can help the model learn more robust features and reduce overfitting.\n",
        "\n",
        "However, there is a balance to strike. Augmenting too much can lead to overfitting on the augmented data, where the model becomes too specialized in recognizing variations that may not be present in the real-world data. Therefore, it's essential to monitor your model's performance on a validation set and, if needed, adjust the augmentation strategy accordingly.\n",
        "\n",
        "The effectiveness of increasing the number of augmentations also depends on the specific task and dataset, so it's advisable to experiment and find the optimal level of augmentation for your particular case.\n",
        "\n",
        "\n",
        "Rotation: Rotate the image by a certain degree (e.g., 10-15 degrees) to add variety to the training data.\n",
        "\n",
        "Flip: Horizontally flip the image to create a mirrored version.\n",
        "\n",
        "Translation: Shift the image horizontally and vertically by a small amount.\n",
        "\n",
        "Scaling: Resize the image to a slightly larger or smaller size while maintaining its aspect ratio.\n",
        "\n",
        "Brightness and Contrast Adjustment: Randomly adjust the brightness and contrast of the image.\n",
        "\n",
        "Gaussian Noise: Add random Gaussian noise to the image.\n",
        "\n",
        "Crop and Resize: Randomly crop a portion of the image and resize it to the original size.\n",
        "\n",
        "Color Jittering: Randomly change the color of the image by adjusting hue, saturation, and brightness.\n",
        "\n",
        "Elastic Deformation: Apply elastic deformation to the image to simulate distortions.\n",
        "\n",
        "Cutout: Randomly remove a square or rectangular portion of the image.\n",
        "\n",
        "You can experiment with these augmentations using libraries like, PIL (Python Imaging Library), or specialized data augmentation libraries like Augmentor or. The specific choice of augmentations and their parameters will depend on your dataset and the problem you're trying to solve.\n",
        "\n",
        "\n",
        "\n",
        "\n",
        "User\n",
        "Try combining various augmentations. What is the highest accuracy you can get? What is the smallest training dataset you can take and still get accuracy above 50%?\n",
        "\n",
        "\n",
        "I don't have the capability to directly conduct experiments or access external data to determine the highest accuracy achievable with specific combinations of augmentations or the smallest training dataset that would yield an accuracy above 50%. Achieving a certain level of accuracy depends on various factors, including the complexity of the task, the quality and quantity of data, the architecture of the model, and the chosen augmentations.\n",
        "\n",
        "To find the highest accuracy and the smallest training dataset that meets your accuracy threshold, you would need to perform experiments on your specific dataset and task. Here's a general approach you can follow:\n",
        "\n",
        "Select a diverse set of augmentations: Choose a combination of augmentations from the list provided earlier and experiment with different combinations. You can use libraries like or custom Python code to apply these augmentations to your dataset.\n",
        "\n",
        "Train and evaluate your model: Train your machine learning model (e.g., deep neural network) using the augmented dataset. Monitor the accuracy on a validation set to find the best combination of augmentations."
      ],
      "metadata": {
        "id": "6aVK-6K5NRs7"
      }
    },
    {
      "cell_type": "markdown",
      "source": [
        "Increasing the number of augmentations for each sample can potentially improve the accuracy of your machine learning model, especially if your dataset is limited or lacks diversity. By generating multiple augmented versions of each sample, you effectively increase the size of your training dataset, which can help the model learn more robust features and reduce overfitting."
      ],
      "metadata": {
        "id": "y3lojoSLO0_t"
      }
    },
    {
      "cell_type": "markdown",
      "source": [],
      "metadata": {
        "id": "6jdfTX8ZOOJS"
      }
    },
    {
      "cell_type": "markdown",
      "source": [
        "Try implementing a few augmentations of your own and experimenting with them. A good reference is here."
      ],
      "metadata": {
        "id": "3-P6T5piPEcg"
      }
    },
    {
      "cell_type": "markdown",
      "source": [
        "Optimal Data Augmentation Values\n",
        "\n",
        "I apologize, but I don't have access to specific data or experiments conducted after my last knowledge update in September 2021. The best values for angle and shear constraints in data augmentation can vary depending on the specific machine learning task and dataset. To determine the optimal values for your task, you may need to experiment and evaluate different values using techniques like cross-validation.\n",
        "\n",
        "The improvement in accuracy due to data augmentation also depends on the task and dataset. Generally, data augmentation can help improve model generalization by providing more diverse training examples. The extent of improvement varies, and it's usually assessed through empirical testing. You would typically compare the accuracy of models trained with and without data augmentation to measure the impact accurately.\n",
        "\n",
        "\n",
        "Increasing the number of augmentations for each sample can potentially improve the accuracy of your machine learning model, especially if your dataset is limited or lacks diversity. By generating multiple augmented versions of each sample, you effectively increase the size of your training dataset, which can help the model learn more robust features and reduce overfitting.\n",
        "\n",
        "However, there is a balance to strike. Augmenting too much can lead to overfitting on the augmented data, where the model becomes too specialized in recognizing variations that may not be present in the real-world data. Therefore, it's essential to monitor your model's performance on a validation set and, if needed, adjust the augmentation strategy accordingly.\n",
        "\n",
        "The effectiveness of increasing the number of augmentations also depends on the specific task and dataset, so it's advisable to experiment and find the optimal level of augmentation for your particular\n",
        "\n",
        "Rotation: Rotate the image by a certain degree (e.g., 10-15 degrees) to add variety to the training data.\n",
        "\n",
        "Flip: Horizontally flip the image to create a mirrored version.\n",
        "\n",
        "Translation: Shift the image horizontally and vertically by a small amount.\n",
        "\n",
        "Scaling: Resize the image to a slightly larger or smaller size while maintaining its aspect ratio.\n",
        "\n",
        "Brightness and Contrast Adjustment: Randomly adjust the brightness and contrast of the image.\n",
        "\n",
        "Gaussian Noise: Add random Gaussian noise to the image.\n",
        "\n",
        "Crop and Resize: Randomly crop a portion of the image and resize it to the origin"
      ],
      "metadata": {
        "id": "WyN4S5MBPF9C"
      }
    },
    {
      "cell_type": "markdown",
      "source": [],
      "metadata": {
        "id": "RPm2apKzKWo5"
      }
    },
    {
      "cell_type": "markdown",
      "source": [
        "1.apologize, but I don't have access to specific data or experiments conducted after my last knowledge update in September 2021. The best values for angle and shear constraints in data augmentation can vary depending on the specific machine learning task and dataset. To determine the optimal values for your task, you may need to experiment and evaluate different values using techniques like cross-validation."
      ],
      "metadata": {
        "id": "7dLKGmeeLRtw"
      }
    },
    {
      "cell_type": "markdown",
      "source": [],
      "metadata": {
        "id": "9ooU-5fhN46D"
      }
    },
    {
      "cell_type": "markdown",
      "source": [
        "2.Increasing the number of augmentations for each sample can potentially improve the accuracy of your machine learning model, especially if your dataset is limited or lacks diversity. By generating multiple augmented versions of each sample, you effectively increase the size of your training dataset, which can help the model learn more robust features and reduce overfitting."
      ],
      "metadata": {
        "id": "HfSSScvFLoi5"
      }
    },
    {
      "cell_type": "markdown",
      "source": [
        "3.\n",
        "\n",
        "\n",
        "I apologize, but I don't have access to specific data or experiments conducted after my last knowledge update in September 2021. The best values for angle and shear constraints in data augmentation can vary depending on the specific machine learning task and dataset. To determine the optimal values for your task, you may need to experiment and evaluate different values using techniques like cross-validation.\n",
        "\n",
        "The improvement in accuracy due to data augmentation also depends on the task and dataset. Generally, data augmentation can help improve model generalization by providing more diverse training example\n",
        "\n",
        "However, there is a balance to strike. Augmenting too much can lead to overfitting on the augmented data, where the model becomes too specialized in recognizing variations that may not be present in the real-world data. Therefore, it's essential to monitor your model's performance on a validation set and, if needed, adjust the augmentation strategy accordingly\n",
        "\n",
        "\n",
        "\n",
        "\n",
        "Rotation: Rotate the image by a certain degree (e.g., 10-15 degrees) to add variety to the training data.\n",
        "\n",
        "Flip: Horizontally flip the image to create a mirrored version.\n",
        "\n",
        "Translation: Shift the image horizontally and vertically by a small amount.\n",
        "\n",
        "Scaling: Resize the image to a slightly larger or smaller size while maintaining its aspect ratio.\n",
        "\n",
        "Brightness and Contrast Adjustment: Randomly adjust the brightness and contrast of the image.\n",
        "\n",
        "Gaussian Noise: Add random Gaussian noise to the image."
      ],
      "metadata": {
        "id": "451tOLoHMHcB"
      }
    }
  ]
}